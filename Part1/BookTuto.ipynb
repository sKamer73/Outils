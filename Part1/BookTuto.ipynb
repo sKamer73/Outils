{
 "cells": [
  {
   "cell_type": "markdown",
   "metadata": {},
   "source": [
    "# Faire un livre avec Jupyter Book"
   ]
  },
  {
   "cell_type": "markdown",
   "metadata": {},
   "source": [
    "Je compte présenter ici ma manière de faire, pas donner un cours: c'est encore brouillon dans ma tête."
   ]
  },
  {
   "cell_type": "markdown",
   "metadata": {},
   "source": [
    "Leur website est très bien fait: https://jupyterbook.org/start/overview.html\n",
    "\n",
    "Le concept est de créer un livre de notebooks, en générant chaque page et en les ajoutant les uns avec les autres. Cela correspond à une architecture de dossiers/fichiers. Certaines choses peuvent se révéler compliqués lorsque l'on exporte au format pdf, particulièrement au niveau des figures. Le fichier _toc.yml référence l'architecture.\n",
    "\n",
    "Il y a beaucoup d'options intéressantes: mettre des liens pour Binder, pour Github, qui permettent un accès rapide à l'interactivité des Notebook\n",
    "\n",
    "Pour contruire le livre, sous Windows: \n",
    "ouvrir une invite de commande conda, entrer l'instruction suivante afin d'ouvrir l'environnement windows/conda adapté et décrit dans environment_win.yml\n",
    "\n",
    "conda env create -f environment_win.yml\n",
    "\n",
    "conda activate wintest\n",
    "\n",
    "Une fois l'environnement créé, il suffit de taper conda activate wintest afin de réouvrir, dans une autre console par exemple.\n",
    "\n",
    "Cela ouvre l'environnement conda et donne un nouvel aspect à la console. Il suffit alors d'entrer la commande:\n",
    "* jupyter-book build Outils/          -----> pour une version html\n",
    "* jupyter-book build Outils/ --builder pdflatex         -------> pour une version pdf"
   ]
  }
 ],
 "metadata": {
  "kernelspec": {
   "display_name": "Python 3",
   "language": "python",
   "name": "python3"
  },
  "language_info": {
   "codemirror_mode": {
    "name": "ipython",
    "version": 3
   },
   "file_extension": ".py",
   "mimetype": "text/x-python",
   "name": "python",
   "nbconvert_exporter": "python",
   "pygments_lexer": "ipython3",
   "version": "3.8.3"
  },
  "widgets": {
   "application/vnd.jupyter.widget-state+json": {
    "state": {},
    "version_major": 2,
    "version_minor": 0
   }
  }
 },
 "nbformat": 4,
 "nbformat_minor": 4
}
