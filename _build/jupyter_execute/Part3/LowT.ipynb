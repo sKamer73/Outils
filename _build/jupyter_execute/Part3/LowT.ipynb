{
 "cells": [
  {
   "cell_type": "markdown",
   "metadata": {},
   "source": [
    "# Basses Températures"
   ]
  },
  {
   "cell_type": "markdown",
   "metadata": {},
   "source": [
    "## Introduction"
   ]
  },
  {
   "cell_type": "markdown",
   "metadata": {},
   "source": [
    "Les panneaux solaires basses températures sont, d'après moi, regroupés en trois catégories, fonction de leur technologie et de la température atteignable en sortie. \n",
    "\n",
    "Il y a aujourd'hui trois technologies \"mainstream\":\n",
    "1. Des tubes noirs, sans protection, au soleil. Utilisé dans les piscines\n",
    "2. Des collecteurs plans: une vitre protégeant un absorbeur noir, derrière lequel passe un tuyau dans lequel cricule le fluide caloporteur.\n",
    "3. Des tubes sous vides (ETC, evacuated tube collectors): des tubes en verre dans lesquels un absorbeur noir récupère la chaleur. Il y a soit un caloduc, soit une circulation direct du fluide caloporteur. Les tubes étant sous vide, les pertes par convection sont minimisées.\n",
    "\n",
    "Le fluide caloporteur est le plus souvent de l'eau. Sous nos latitudes, on mélange l'eau avec du glycol afin d'éviter que cette dernière ne gèle la nuit. Il est donc nécessaire d'installer un échangeur entre le stockage et le panneau solaire.\n",
    "\n",
    "L'énergie incidente sur le collecteur est caractérisé par les propriétés optiques du système: le verre laisse passer une certaine portion du rayonnement; de même, l'absorbeur n'absorbe pas tout le rayonnement. "
   ]
  },
  {
   "cell_type": "markdown",
   "metadata": {},
   "source": [
    "### Pertes thermiques "
   ]
  },
  {
   "cell_type": "markdown",
   "metadata": {},
   "source": [
    "Les transferts thermiques se font de trois manières: rayonnement, conduction et convection. Il est donc intéressant de travailler à réduire les pertes par les trois modes de transfert de la chaleur.\n",
    "\n",
    "1. Conduction: l'arrière des panneaux est isolé.\n",
    "2. Rayonnement: le verre possède un spectre d'absorption des infrarouges lointains, ce qui correspond aux émissions basse température.\n",
    "3. Convection: l'air permet un transfert de chaleur, néanmoins son non-renouvellement permet une montée en température (effet de serre). Sous vide, le transfert est encore plus faible.\n",
    "\n",
    "Chacun des termes a une expression classique; les pertes par conduction et convection sont proportionelles à $T-T_{amb}$, celles par rayonnement à $T^4-T_{amb}^4$. Sur une petite plage de calculs, il est possible d'écrire cela $(T^2-T_{amb}^2)*(T^2+T_{amb}^2$ et de considérer le deuxième terme constant. Des normes ont donc été mises en place pour le calcul des pertes thermiques."
   ]
  },
  {
   "cell_type": "markdown",
   "metadata": {},
   "source": [
    "#### Modélisation habituelle"
   ]
  },
  {
   "cell_type": "markdown",
   "metadata": {},
   "source": [
    "Les pertes thermiques des collecteurs sont déterminés expérimentalement par les constructeurs. Ces pertes, en Watt par m² de collecteur, s'écrivent:"
   ]
  },
  {
   "cell_type": "markdown",
   "metadata": {},
   "source": [
    "$$ \n",
    "P_{pertes} = a_1 \\times (\\bar{T}-T_{amb})+a_2 \\times (\\bar{T}-T_{amb})^2 \n",
    "$$"
   ]
  },
  {
   "cell_type": "markdown",
   "metadata": {},
   "source": [
    "Avec $\\bar{T}=\\frac{T_{inlet}+T_{outlet}}{2}$ la température moyenne dans le panneau. $a_1$ et $a_2$ sont déterminés expérimentalement. \n",
    "\n",
    "$\\bar{T}$: ceci est la moyenne dans le panneau. Définie de manière classique, càd: $\\bar{T}=\\frac{1}{L} \\times \\int_0^{L} T(z)dz$, il peut être intéressant de se demander si cette dernière est vraiment égale à la moyenne de la température d'entrée et de sortie. Cela est \"très\" vraie si la température dans le panneau est linéaire, ce qui est le cas selon la plage de fonctionnement."
   ]
  },
  {
   "cell_type": "markdown",
   "metadata": {},
   "source": [
    "### Energie utile récupérée -- Calcul de la température de sortie"
   ]
  },
  {
   "cell_type": "markdown",
   "metadata": {},
   "source": [
    "L'énergie utile récupérée par le panneau s'écrit:"
   ]
  },
  {
   "cell_type": "markdown",
   "metadata": {},
   "source": [
    "$$\n",
    "\\dot{m} \\times C_p \\times (T_{outlet}-T_{inlet}) = (P_{in}-P_{pertes}) \\times A_{panneau}\n",
    "$$"
   ]
  },
  {
   "cell_type": "markdown",
   "metadata": {},
   "source": [
    "Avec $\\dot{m}$ le débit dans le panneau solaire en kg/s, $C_p$ la capacité calorifique du fluide caloporteur en J/kg.K, $P_{in}$ la puissance en entrée du collecteur en W/m², $P_{pertes}$ les pertes en W/m² du panneau."
   ]
  },
  {
   "cell_type": "markdown",
   "metadata": {},
   "source": [
    "On peut écrire $P_{in } = \\eta_{opt} * G$ avec G l'irrdiance incidente en W/m² et $\\eta_{opt}$ l'efficacité optique du collecteur. Dans le cadre des capteurs basses températures, il s'agit en général du produit de la transparence du verre par l'absorptivité du récepteur. "
   ]
  },
  {
   "cell_type": "markdown",
   "metadata": {},
   "source": [
    "Nous obtenons donc une relation entre: \n",
    "* la température en entrée du panneau du fluide caloporteur\n",
    "* la température en sortie\n",
    "* le débit dans le panneau solaire\n",
    "* la puissance solaire en entrée"
   ]
  },
  {
   "cell_type": "markdown",
   "metadata": {},
   "source": [
    "Selon l'inconnue et les paramètres, nous pouvons en déduire une des variables. Il peut être d'intéressant d'optimiser le débit afin de maximiser l'énergie totale du système. C'est le but de mon doctorat, environ. "
   ]
  },
  {
   "cell_type": "markdown",
   "metadata": {},
   "source": [
    "### Exercices"
   ]
  },
  {
   "cell_type": "markdown",
   "metadata": {},
   "source": [
    "1. Exprimer la température de sortie en fonction des autres variables.\n",
    "2. Avec les paramètres suivants: $\\eta_{opt}=0.8, \\ a_1 = 3.01 W/m².K , \\ a_2=0.2 W/m².K²$ et en choisissant des valeurs plausibles pour les autres paramètres"
   ]
  },
  {
   "cell_type": "markdown",
   "metadata": {
    "tags": [
     "remove_cell"
    ]
   },
   "source": [
    "Il faut résoudre l'équation de degré 2. Les résultats sont:"
   ]
  },
  {
   "cell_type": "markdown",
   "metadata": {
    "tags": [
     "remove_cell"
    ]
   },
   "source": [
    "$$\n",
    "T_{out} = \n",
    "$$"
   ]
  },
  {
   "cell_type": "markdown",
   "metadata": {},
   "source": [
    "## Bilan sur le stockage"
   ]
  },
  {
   "cell_type": "markdown",
   "metadata": {},
   "source": [
    "De manière très simplifiée (en ignorant la stratification par exemple), on peut définir une température moyenne de stockage."
   ]
  },
  {
   "cell_type": "markdown",
   "metadata": {},
   "source": [
    "Dans une maison française post-nucléarisation, le chauffe-eau est souvent électrique. Certains tarifs d'EDF rémunèrent l'utilisation d'Heures Creuses, afin de lisser la demande électrique sur le réseau. Par conséquent, un nombre certain de chauffe-eau s'allument à 22H, ainsi que d'autres appareils électroménagers comme les machines. Ce qui donne les courbes de demande électrique suivante:"
   ]
  },
  {
   "cell_type": "markdown",
   "metadata": {},
   "source": [
    "Une équation bilan serait : $M\\times \\frac{dh}{dt}= \\dot{q}_{in}-\\dot{q}_{out}-\\dot{q}_{pertes}$, avec *h* l'enthalpie du fluide dans le stockage, M la masse du stockage, $\\dot{q}_{in}=\\dot{m} \\times C_p \\times (T_{out,panneau}-T_{stockage})$ ,  $\\dot{q}_{out}=\\dot{m}_{demande} \\times C_p \\times (T_{stockage}-T_{reseau})$ et $\\dot{q}_{pertes}= UA \\times (T_{stockage}-T_{ambient})$. $dh = C_p \\times dT$"
   ]
  },
  {
   "cell_type": "markdown",
   "metadata": {},
   "source": [
    "On obtient donc une équation différentielle en z. Il va donc falloir la résoudre. Cela est fait de manière très classique en discrétisant le temps, par exemple au niveau horaire, ce que l'on fait en prenant $\\delta t = 3600s$ et en remplaçant $\\frac{dT(t)}{dt} = \\frac{T_{n+1}-T_n}{\\delta t}$. $T_n$ correspond à la température à l'heure n. On obtient alors la température à l'heure n+1 via l'équation bilan. De proche en proche, cela permet de résoudre la température dans le panneau."
   ]
  },
  {
   "cell_type": "markdown",
   "metadata": {},
   "source": [
    "### Exercice"
   ]
  },
  {
   "cell_type": "markdown",
   "metadata": {},
   "source": [
    "Calculer la température du stockage au cours d'une journée avec l'irradiance définie comme ci-dessous pour le panneau de l'exercice précédent, en utilisant les valeurs de $\\dot{m}_{demande}$ présentes dans les photos du livre ainsi que celle de $T_{reseau}$."
   ]
  },
  {
   "cell_type": "code",
   "execution_count": 17,
   "metadata": {},
   "outputs": [],
   "source": [
    "import sympy\n",
    "import math\n",
    "sympy.init_printing()\n",
    "x = sympy.Symbol('x')"
   ]
  },
  {
   "cell_type": "code",
   "execution_count": 24,
   "metadata": {},
   "outputs": [
    {
     "data": {
      "image/png": "[encoded data removed]",
      "text/latex": [
       "$\\displaystyle 10 x^{4} + 5 x + 10$"
      ],
      "text/plain": [
       "    4           \n",
       "10⋅x  + 5⋅x + 10"
      ]
     },
     "execution_count": 24,
     "metadata": {
      "filenames": {
       "image/png": "C:\\Users\\sk260350\\Documents\\Notebooks\\Book\\Generic\\Outils\\_build\\jupyter_execute\\Part3\\LowT_28_0.png"
      }
     },
     "output_type": "execute_result"
    }
   ],
   "source": [
    "polynomial = 10*x**4+5*x+10\n",
    "polynomial.expand()"
   ]
  },
  {
   "cell_type": "code",
   "execution_count": 26,
   "metadata": {},
   "outputs": [],
   "source": [
    "sols=sympy.solve(polynomial)"
   ]
  },
  {
   "cell_type": "code",
   "execution_count": 31,
   "metadata": {},
   "outputs": [
    {
     "data": {
      "image/png": "[encoded data removed]",
      "text/latex": [
       "$\\displaystyle 0.712486248174899 + 0.82648571463846 i$"
      ],
      "text/plain": [
       "0.712486248174899 + 0.82648571463846⋅ⅈ"
      ]
     },
     "execution_count": 31,
     "metadata": {
      "filenames": {
       "image/png": "C:\\Users\\sk260350\\Documents\\Notebooks\\Book\\Generic\\Outils\\_build\\jupyter_execute\\Part3\\LowT_30_0.png"
      }
     },
     "output_type": "execute_result"
    }
   ],
   "source": [
    "sols[1].evalf()"
   ]
  },
  {
   "cell_type": "code",
   "execution_count": 14,
   "metadata": {},
   "outputs": [],
   "source": [
    "x = sympy.Symbol(\"x\")"
   ]
  },
  {
   "cell_type": "code",
   "execution_count": 16,
   "metadata": {},
   "outputs": [
    {
     "data": {
      "text/plain": [
       "{-1/2 - sqrt(3)*I/2: 1, -1/2 + sqrt(3)*I/2: 1}"
      ]
     },
     "execution_count": 16,
     "metadata": {},
     "output_type": "execute_result"
    }
   ],
   "source": [
    "sympy.roots(x**2+x+1)"
   ]
  },
  {
   "cell_type": "code",
   "execution_count": null,
   "metadata": {},
   "outputs": [],
   "source": []
  }
 ],
 "metadata": {
  "kernelspec": {
   "display_name": "Python 3",
   "language": "python",
   "name": "python3"
  },
  "language_info": {
   "codemirror_mode": {
    "name": "ipython",
    "version": 3
   },
   "file_extension": ".py",
   "mimetype": "text/x-python",
   "name": "python",
   "nbconvert_exporter": "python",
   "pygments_lexer": "ipython3",
   "version": "3.8.3"
  },
  "widgets": {
   "application/vnd.jupyter.widget-state+json": {
    "state": {},
    "version_major": 2,
    "version_minor": 0
   }
  }
 },
 "nbformat": 4,
 "nbformat_minor": 4
}