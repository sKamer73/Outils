{
 "cells": [
  {
   "cell_type": "markdown",
   "metadata": {},
   "source": [
    "# T(z) dans un panneau"
   ]
  },
  {
   "cell_type": "markdown",
   "metadata": {},
   "source": [
    "Plus précisément, on a en général la définition: $\\dot{m} \\times C_p \\times (T_{out}-T_{in}) = \\eta_0 \\times A \\times I - a_1 * A* (\\bar{T}-T_{amb}) - a_2*A*(\\bar{T}-T_{amb})^2 $\n",
    "\n",
    "$a_1$ et $a_2$ sont fournis par le constructeur de manière classique. Néanmoins, l'équation bilan sur un élément dz du panneau donne:\n",
    "\n",
    "$\\dot{m} \\times C_p \\times \\frac{dT}{dz} = \\eta_0 \\times l \\times I -\\alpha_1 \\times l \\times (T(z)-T_{amb})-\\alpha_2 \\times l \\times (T(z)-T_{amb})^2$\n",
    "\n",
    "Etant donné que cette dernière formulation est plus pratique que la première lorsqu'il s'agit d'étudier un champ solaire constitué de plusieurs panneaux à la suite (en supposant qu'il n'y a pas de pertes dans les connections..), il serait bien de pouvoir passer de l'un à l'autre. Instinctivement, on voudrait les relier par $ \\alpha_1 = \\frac{a_1}{L} $ avec L la longueur du panneau. Comment vérifier cela? \n",
    "\n",
    "Il est possible de résoudre de manière analytique la deuxième équation, en passant par un argth. En effet, si l'on suppose que la température ne fait que grimper dans le panneau (et donc que $\\frac{dT}{dz}>0$), il est possible d'arriver sur l'équation différentielle suivante: \n",
    "\n",
    "$$\n",
    "\\frac{dT^*}{1-T^{*2}} = \\nu_2 \\times \\sqrt{\\frac{A}{\\nu_2}+\\frac{\\nu_1^2}{4 \\times \\nu_2^2}} \\\\\n",
    "avec \\ T^* = \\frac{T-T_{amb}+\\frac{\\nu_1}{2 \\times \\nu_2}}{\\sqrt{\\frac{A}{\\nu_2}+\\frac{\\nu_1^2}{4 \\times \\nu_2^2}}} , \\\\\n",
    " A = \\frac{\\eta_0 \\times l \\times I}{\\dot{m} \\times C_p}, \\\\\n",
    " \\nu_1 = \\frac{\\alpha_1}{\\dot{m} \\times C_p}, \\\\\n",
    " \\nu_2 = \\frac{\\alpha_2}{\\dot{m} \\times C_p}\n",
    "$$\n"
   ]
  },
  {
   "cell_type": "markdown",
   "metadata": {},
   "source": [
    "$\\frac{dT}{dz}>0$ implique que $T^*<1$, et donc que la solution de cette équation différentielle est bien un argth. Cela donne:\n",
    "\n",
    "$$\n",
    "d \\ argth(T^*) = \\nu_2 \\times \\sqrt{\\frac{A}{\\nu_2}+\\frac{\\nu_1^2}{4 \\times \\nu_2^2}} = M, \\\\\n",
    "donc: \\ T^* = th(argth(T^*(0))+M*z) = \\frac{T^*(0)+th (z \\times M)}{1+T^*(0) \\times th(z \\times M)}\n",
    "$$"
   ]
  },
  {
   "cell_type": "markdown",
   "metadata": {},
   "source": [
    "L'objectif va donc être de trouver $\\alpha_1 , \\alpha_2$ tels que les pertes linéaires et les pertes quadratiques s'égalisent. Cela est complexe analytiquement, car nous avons un grand nombre de fonctions non linéaires intervenant dans l'égalité. Nous allons donc tracer la fonction en faisant varier les divers paramètres et voir si la solution instinctive est juste (càd, si T est linéaire dans le panneau)."
   ]
  },
  {
   "cell_type": "markdown",
   "metadata": {},
   "source": [
    "Au final, pareil pour le panneau ou tout autre chose: c'est linéaire SI le mdot est assez gros, that is the question. On va donc tracer T(L) en fonction de mdot.\n",
    "    "
   ]
  },
  {
   "cell_type": "code",
   "execution_count": 3,
   "metadata": {},
   "outputs": [],
   "source": [
    "import math\n",
    "eta0=0.831\n",
    "a1 = 3.08\n",
    "a2 = 0.01\n",
    "Cp=4187\n",
    "l=1\n",
    "Tamb=10"
   ]
  },
  {
   "cell_type": "code",
   "execution_count": 23,
   "metadata": {},
   "outputs": [],
   "source": [
    "class Panneau:\n",
    "    def __init__(self, Tin, eta0, a1, a2, I, Tamb, mdot, Cp, Ap):\n",
    "        self.Tin=Tin\n",
    "        a= a2*Ap/4\n",
    "        b= mdot*Cp+a1*Ap/2-a2*Ap*(Tin/2-Tamb)\n",
    "        c=eta0*Ap*I+a1*(Tamb-Tin/2)*Ap-a2*Ap*(Tin/2-Tamb)+mdot*Cp*Tin\n",
    "        c=-c\n",
    "        delta=b*b-4*a*c\n",
    "        self.Tout = (-b+math.sqrt(delta))/(2*a)"
   ]
  },
  {
   "cell_type": "code",
   "execution_count": 24,
   "metadata": {},
   "outputs": [],
   "source": [
    "Nb=12\n",
    "T0=Tamb\n",
    "I=750\n",
    "mdot=20*12/3600\n",
    "tabPan=[Panneau(T0,eta0,a1,a2,I,Tamb, mdot, 4187, 2)]\n",
    "for pan in range(0,Nb):\n",
    "    tabPan.append(Panneau(tabPan[-1].Tout,eta0,a1,a2,I,Tamb, mdot, 4187, 2))"
   ]
  },
  {
   "cell_type": "code",
   "execution_count": 25,
   "metadata": {},
   "outputs": [
    {
     "name": "stdout",
     "output_type": "stream",
     "text": [
      "10 --> 14.408442099727381\n",
      "14.408442099727381 --> 18.719369296428567\n",
      "18.719369296428567 --> 22.935603686994455\n",
      "22.935603686994455 --> 27.059861394093332\n",
      "27.059861394093332 --> 31.09475750905517\n",
      "31.09475750905517 --> 35.04281075996687\n",
      "35.04281075996687 --> 38.90644792273292\n",
      "38.90644792273292 --> 42.68800799142696\n",
      "42.68800799142696 --> 46.38974612312836\n",
      "46.38974612312836 --> 50.01383737142646\n",
      "50.01383737142646 --> 53.562380221637795\n",
      "53.562380221637795 --> 57.03739993996919\n"
     ]
    }
   ],
   "source": [
    "for k in range(0,Nb):\n",
    "    print(tabPan[k].Tin, '-->',tabPan[k].Tout)"
   ]
  },
  {
   "cell_type": "code",
   "execution_count": 26,
   "metadata": {},
   "outputs": [
    {
     "name": "stdout",
     "output_type": "stream",
     "text": [
      "0.8203620920692686\n",
      "0.8022156521150162\n",
      "0.7845943730355277\n",
      "0.7674785342054665\n",
      "0.7508493348153432\n",
      "0.7346888427363236\n",
      "0.718979946688954\n",
      "0.7037063114498633\n",
      "0.6888523358859459\n",
      "0.6744031136277397\n",
      "0.6603443961704379\n",
      "0.6466625582512692\n"
     ]
    }
   ],
   "source": [
    "for k in range(0,Nb):\n",
    "    print((tabPan[k].Tout-tabPan[k].Tin)*mdot*Cp/(2*I))"
   ]
  },
  {
   "cell_type": "code",
   "execution_count": 31,
   "metadata": {
    "collapsed": true,
    "jupyter": {
     "outputs_hidden": true
    }
   },
   "outputs": [
    {
     "data": {
      "text/plain": [
       "0.6244933333333332"
      ]
     },
     "execution_count": 31,
     "metadata": {},
     "output_type": "execute_result"
    }
   ],
   "source": [
    "eta0 - a1*(54-Tamb)/I - a2*(54-Tamb)*(54-Tamb)/I "
   ]
  }
 ],
 "metadata": {
  "kernelspec": {
   "display_name": "Python 3",
   "language": "python",
   "name": "python3"
  },
  "language_info": {
   "codemirror_mode": {
    "name": "ipython",
    "version": 3
   },
   "file_extension": ".py",
   "mimetype": "text/x-python",
   "name": "python",
   "nbconvert_exporter": "python",
   "pygments_lexer": "ipython3",
   "version": "3.8.3"
  },
  "widgets": {
   "application/vnd.jupyter.widget-state+json": {
    "state": {},
    "version_major": 2,
    "version_minor": 0
   }
  }
 },
 "nbformat": 4,
 "nbformat_minor": 4
}