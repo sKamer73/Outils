{
 "cells": [
  {
   "cell_type": "markdown",
   "metadata": {},
   "source": [
    "# Les différentes pertes optiques"
   ]
  },
  {
   "cell_type": "markdown",
   "metadata": {},
   "source": [
    "## L'effet cosinus"
   ]
  },
  {
   "cell_type": "markdown",
   "metadata": {},
   "source": [
    "L'effet cosinus n'est pas à proprement parlé une perte. "
   ]
  },
  {
   "cell_type": "markdown",
   "metadata": {},
   "source": [
    "![http://www.powerfromthesun.net/Book/chapter10/chapter10.html](../images/CosineEffect.PNG)"
   ]
  },
  {
   "cell_type": "markdown",
   "metadata": {},
   "source": [
    "Cela traduit juste le fait qu'une surface ne reçoit que l'énergie qu'elle voit, et qu'il faut donc projeter l'aire du collecteur dans la direction du rayon. Cela peut se voir lorsque l'on penche sa main petit à petit en redirection du soleil: la lumière palit jusqu'à disparaître: on a dépassé les 90°, le côté de la main éclairé est passé dans l'ombre."
   ]
  },
  {
   "cell_type": "markdown",
   "metadata": {},
   "source": [
    " Soit alors $\\vec{s}$ le vecteur solaire, càd le vecteur pointant vers le soleil. \n",
    "\n",
    "Soit $\\vec{n}_P$ la normale au plan d'incidence du DNI et $A_{col}$ la surface du collecteur. "
   ]
  },
  {
   "cell_type": "code",
   "execution_count": null,
   "metadata": {},
   "outputs": [],
   "source": []
  }
 ],
 "metadata": {
  "kernelspec": {
   "display_name": "Python 3",
   "language": "python",
   "name": "python3"
  },
  "language_info": {
   "codemirror_mode": {
    "name": "ipython",
    "version": 3
   },
   "file_extension": ".py",
   "mimetype": "text/x-python",
   "name": "python",
   "nbconvert_exporter": "python",
   "pygments_lexer": "ipython3",
   "version": "3.8.3"
  },
  "widgets": {
   "application/vnd.jupyter.widget-state+json": {
    "state": {},
    "version_major": 2,
    "version_minor": 0
   }
  }
 },
 "nbformat": 4,
 "nbformat_minor": 4
}
