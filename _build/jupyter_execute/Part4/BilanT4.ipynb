{
 "cells": [
  {
   "cell_type": "markdown",
   "metadata": {},
   "source": [
    "# Température de paroi dans une tour"
   ]
  },
  {
   "cell_type": "markdown",
   "metadata": {},
   "source": [
    "## Sur une formule générale"
   ]
  },
  {
   "cell_type": "markdown",
   "metadata": {},
   "source": [
    "### A un instant t donné"
   ]
  },
  {
   "cell_type": "markdown",
   "metadata": {},
   "source": [
    "$$\n",
    "\\dot{m} \\times C_p \\times \\frac{dT}{dz} = \\alpha \\times \\eta_{opt} \\times DNI \\times \\frac{A_{col}}{L_{rec}} - h \\times l_{rec} \\times (T_p-T_{amb}) - \\epsilon (T_p) \\times \\sigma \\times l_{rec} \\times (T_p^4-T_{amb}^4)\n",
    "$$ (eqGenTFixed)"
   ]
  },
  {
   "cell_type": "markdown",
   "metadata": {},
   "source": [
    "La relation entre la température du fluide en z et la température de paroi externe peut être résolue en faisant un bilan sur un élément de la paroi du récepteur:\n",
    "$$\n",
    "\\dot{q}_{SF} (z) = R_{eq}  \\times (T_p -T_{fl}(z)) + h_a  \\times (T_p-T_{amb} ) + \\epsilon \\times \\sigma  \\times (T_p^4-T_{amb}^4) \n",
    "$$"
   ]
  },
  {
   "cell_type": "markdown",
   "metadata": {},
   "source": [
    "Avec $\\frac{1}{Req} = \\frac{e}{\\lambda}+\\frac{1}{h_{fl}}$"
   ]
  },
  {
   "cell_type": "markdown",
   "metadata": {},
   "source": [
    "Ce qui peut s'écrire comme une équation de degré 4 sur $T_p$:\n",
    "$$\n",
    "T_p^4+ q \\times T_p - r =0 \\\\\n",
    " q= \\frac{R_{eq} + h}{\\epsilon \\times \\sigma} \\\\\n",
    " r = T_{amb}^4 + \\frac{\\dot{q}_{SF} (z) + R_{eq} \\times T + h \\times T_{amb} }{\\epsilon \\times \\sigma}\n",
    "$$"
   ]
  },
  {
   "cell_type": "markdown",
   "metadata": {},
   "source": [
    "Cette équation peut se résoudre de manière littérale en utilisant le fait que les coefficients des carrés et cubes sont nuls. Résultante cubique:\n",
    "$$\n",
    "R(z) = z^3 +4 \\times r \\times z - q^2 \\\\\n",
    "\\Delta_1 = q^4+ \\frac{4}{27} \\times (4r)^3\n",
    "$$"
   ]
  },
  {
   "cell_type": "markdown",
   "metadata": {},
   "source": [
    "Or \n",
    "$$\n",
    "z_1 = \\sqrt[3]{\\frac{q^2-\\sqrt{\\Delta_1}}{2}} + \\sqrt[3]{\\frac{q^2+\\sqrt{\\Delta_1}}{2}} \\\\\n",
    "z_2 = j \\times \\sqrt[3]{\\frac{q^2-\\sqrt{\\Delta_1}}{2}} + \\bar{j} \\times \\sqrt[3]{\\frac{q^2+\\sqrt{\\Delta_1}}{2}}\\\\\n",
    "z_3 = j^2 \\times \\sqrt[3]{\\frac{q^2-\\sqrt{\\Delta_1}}{2}} + \\bar{j}^2 \\times \\sqrt[3]{\\frac{q^2+\\sqrt{\\Delta_1}}{2}}\\\\\n",
    "$$"
   ]
  },
  {
   "cell_type": "code",
   "execution_count": 2,
   "metadata": {},
   "outputs": [],
   "source": [
    "eps = 0.9\n",
    "sigma = 5.67 * pow(10,-8)\n",
    "Tamb=20+273.15\n",
    "Tsky=273.15\n",
    "qdotSF=0.9*0.75*1000*800 #alpha*eta_opt*C*DNI\n",
    "Req= 100*(400/0.1)/(100+4000)\n",
    "Tfluid=600+273.15\n",
    "h=10\n",
    "q=(Req+h)/(eps*sigma)\n",
    "r=(eps*sigma*pow(Tamb,4)+qdotSF+Req*Tfluid+h*Tamb)/(eps*sigma)\n",
    "ratio=pow(r,3)/pow(q,4)\n",
    "nu=4*pow(12,3)/pow(27,2)*ratio\n",
    "delta0=-12*r\n",
    "delta1=-27*pow(q,2)\n",
    "nu2 = -4 *pow(delta0,3)/pow(delta1,2)"
   ]
  },
  {
   "cell_type": "code",
   "execution_count": 120,
   "metadata": {},
   "outputs": [],
   "source": [
    "C=pow((1+sqrt(1+nu))/2,1/3)*pow(-delta1,1/3)*(-1)"
   ]
  },
  {
   "cell_type": "code",
   "execution_count": 121,
   "metadata": {},
   "outputs": [
    {
     "data": {
      "text/plain": [
       "-15919223.393448392"
      ]
     },
     "execution_count": 121,
     "metadata": {},
     "output_type": "execute_result"
    }
   ],
   "source": [
    "C"
   ]
  },
  {
   "cell_type": "code",
   "execution_count": 122,
   "metadata": {},
   "outputs": [],
   "source": [
    "import cmath\n",
    "j=-1/2+1j*sqrt(3)/2\n",
    "x0=-1/3*(C+delta0/C)\n",
    "x1=-1/3*(C*j+delta0/(j*C))\n",
    "x2=-1/3*(C*pow(j,2)+delta0/(pow(j,2)*C))"
   ]
  },
  {
   "cell_type": "code",
   "execution_count": 123,
   "metadata": {},
   "outputs": [],
   "source": [
    "sq0=cmath.sqrt(x0)\n",
    "sq1=cmath.sqrt(x1)\n",
    "sq2=cmath.sqrt(x2)"
   ]
  },
  {
   "cell_type": "code",
   "execution_count": 124,
   "metadata": {},
   "outputs": [],
   "source": [
    "Tp=1/2*(sq0+sq1+sq2)"
   ]
  },
  {
   "cell_type": "code",
   "execution_count": 125,
   "metadata": {},
   "outputs": [
    {
     "data": {
      "text/plain": [
       "(-1517.2264175955538+0j)"
      ]
     },
     "execution_count": 125,
     "metadata": {},
     "output_type": "execute_result"
    }
   ],
   "source": [
    "1/2*(sq0-sq1-sq2)"
   ]
  },
  {
   "cell_type": "code",
   "execution_count": 38,
   "metadata": {},
   "outputs": [
    {
     "data": {
      "text/plain": [
       "-0.7977724087046312"
      ]
     },
     "execution_count": 38,
     "metadata": {},
     "output_type": "execute_result"
    }
   ],
   "source": [
    "from math import sqrt\n",
    "sqrt(1+nu)-(1+nu)\n"
   ]
  },
  {
   "cell_type": "markdown",
   "metadata": {},
   "source": [
    "D'où : \n",
    "$$\n",
    "C = \\sqrt[3]{\\Delta_1} \\times \\nu^{1/6}\n",
    "$$"
   ]
  }
 ],
 "metadata": {
  "kernelspec": {
   "display_name": "Python 3",
   "language": "python",
   "name": "python3"
  },
  "language_info": {
   "codemirror_mode": {
    "name": "ipython",
    "version": 3
   },
   "file_extension": ".py",
   "mimetype": "text/x-python",
   "name": "python",
   "nbconvert_exporter": "python",
   "pygments_lexer": "ipython3",
   "version": "3.8.3"
  },
  "widgets": {
   "application/vnd.jupyter.widget-state+json": {
    "state": {},
    "version_major": 2,
    "version_minor": 0
   }
  }
 },
 "nbformat": 4,
 "nbformat_minor": 4
}