{
 "cells": [
  {
   "cell_type": "markdown",
   "metadata": {},
   "source": [
    "# Travaux Dirigés"
   ]
  },
  {
   "cell_type": "markdown",
   "metadata": {},
   "source": [
    "```{note}\n",
    "Dans tout le TD, on se place dans un repère orthonormé $\\mathcal{E} = (O,\\vec{i},\\vec{j},\\vec{k})$.\n",
    "```\n",
    "\n",
    "\n",
    "**Exercice 1.** On souhaite exprimer l'aire S d'un triangle à l'aide d'un produit vectoriel. On considère le triangle $ABC$ et on note les coordonnées des points $A(1;-2;7)$, $B(2;2;1)$ et $C(1;1;5)$.\n",
    "\n",
    "Dans le plan $(ABC)$, les formules de trigonométrie donnent la relation suivante:\n",
    "\n",
    "$$\n",
    "S=\\frac{1}{2}\\begin{Vmatrix}\\vec{AB}\\end{Vmatrix} \\times \\begin{Vmatrix}\\vec{AC}\\end{Vmatrix} \\times \\begin{vmatrix}sin\\alpha\\end{vmatrix}\n",
    "$$\n",
    "\n",
    "où $\\alpha$ est l'angle orienté $(\\vec{AB},\\vec{AC})$.\n",
    "\n",
    "* Exprimer l'aire $S$ à l'aide d'un produit vectoriel.\n",
    "* Calculer l'aire $S$.\n",
    "\n",
    "\n",
    "**Exercice 2.** On considère le point $A(-2;0;5)$ et le vecteur $\\vec{n}\\begin{pmatrix}\n",
    "2\\\\-6\\\\4\n",
    "\\end{pmatrix}$.\n",
    "\n",
    "Déterminer une équation cartésienne du plan $\\mathcal{P}$ passant par $A$ et de vecteur normal $\\vec{n}$.\n",
    "\n",
    "\n",
    "**Exercice 3.** Soient les points $A(1;-2;7)$, $B(2;2;1)$ et $C(1;1;5)$. En utilisant un produit vectoriel, déterminer une équation cartésienne du plan $(ABC)$.\n",
    "\n",
    "\n",
    "**Exercice 4.** On considère la droite $(AB)$ avec $A(1;2;-1)$ et $B(0;1;3)$, ainsi que le plan $\\mathcal{P}$ d'équation : $x+y+z-1=0$.\n",
    "\n",
    "* Montrer que $(AB)$ et $\\mathcal{P}$ sont sécants.\n",
    "* Déterminer les coordonnées de leur point d'intersection $I$. On commencera par déterminer une représentation paramétrique de $(AB)$.\n",
    "\n",
    "\n",
    "**Exercice 5.** Montrer que les représentations paramétriques suivantes \n",
    "définissent le même plan :\n",
    "\n",
    "$$\n",
    "\\left\\{ \\begin{array}{l}x=2+s+2t \\\\ y=2+2s+t \\\\ z=1-s-t \\end{array} \\right.\n",
    "\\quad \\text{ et } \\quad  \\left\\{ \\begin{array}{l} x=1+3s'-t'\\\\ y=3+3s'+t'\\\\ z=1-2s' \\end{array} \\right.\n",
    "$$\n",
    "\n",
    "\n",
    "**Exercice 6.**\n",
    "\n",
    "&nbsp; 1. Déterminer la distance du point $A$ au plan $(P)$\n",
    "\n",
    "* $A(1,0,2)$ et $(P): 2x+y+z+4=0$.\n",
    "* $A(3,2,1)$ et $(P): -x+5y-4z=5$.\n",
    "\n",
    "&nbsp; 2. (** Un peu plus difficile) Calculer la distance du point $A(1,2,3)$ à la droite \n",
    "$(D):  \\left\\{ \\begin{array}{l}\n",
    "-2x+y-3z=1\\\\ x+z=1  \\end{array} \\right.$\n"
   ]
  }
 ],
 "metadata": {
  "kernelspec": {
   "display_name": "Python 3",
   "language": "python",
   "name": "python3"
  },
  "language_info": {
   "codemirror_mode": {
    "name": "ipython",
    "version": 3
   },
   "file_extension": ".py",
   "mimetype": "text/x-python",
   "name": "python",
   "nbconvert_exporter": "python",
   "pygments_lexer": "ipython3",
   "version": "3.8.8"
  },
  "widgets": {
   "application/vnd.jupyter.widget-state+json": {
    "state": {},
    "version_major": 2,
    "version_minor": 0
   }
  }
 },
 "nbformat": 4,
 "nbformat_minor": 4
}
