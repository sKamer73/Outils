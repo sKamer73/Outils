{
 "cells": [
  {
   "cell_type": "markdown",
   "metadata": {},
   "source": [
    "# L'irradiation solaire"
   ]
  },
  {
   "cell_type": "markdown",
   "metadata": {},
   "source": [
    "Il est possible, d'un point de vue énergétique, de catégoriser l'énergie disponible sur Terre via trois origines: la Terre, le Soleil et la Lune. En effet, du soleil vient:\n",
    "- la biomasse (photosynthèse)\n",
    "- les énergies fossiles (photosynthèse puis raffinement)\n",
    "- le vent (différences de températures, cellules convectives, etc.)\n",
    "- l'hydroélectricité (cycle de l'eau, évaporation)\n",
    "\n",
    "La Terre donne l'énergie géothermique, càd de l'énergie nucléaire issu de son noyau en fusion. Etant doné que l'uranium est présent sur Terre, on pourrait dire que l'énergie nucléaire par fission est d'origine terrestre. Alors que l'énergie nucléaire par fusion viendrait du big bang?\n",
    "\n",
    "La Lune, ainsi que le Soleil, génère des forces de gravité. Ce qui fait bouger les océans, via les marées, d'où l'énergie marémotrice. \n",
    "\n",
    "L'irradiance solaire correspond à la puissance envoyée par le soleil, souvent exprimée en W/m². Le soleil envoie une énergie considérable sur Terre, mais peu dense: en effet, une approximation rapide au niveau du sol donnerait 1000 W/m², pour un beau jour d'été en France. Cette énergie thermique (rayonnement) est récupéré par les différents éléments terrestres puis condensée, stockée, .. Ce qui permet de la récupérer en brûlant du bois, par exemple, ou en stockant l'eau en haut des montagnes. L'énergie hydroéléctrique est bien plus dense que l'énergie solaire: en récupérant l'eau et en la mettant dans un barrage, en grimpant en hauteur, on peut stocker cette énergie.\n",
    "\n",
    "L'irradiation solaire correspond à l'énergie arrivant sur une surface; elle est exprimée en Wh/m², c'est par définition l'intégrale au cours du temps de la puissance, càd l'irradiance."
   ]
  },
  {
   "cell_type": "markdown",
   "metadata": {},
   "source": [
    "## L'absorption et le spectre solaire"
   ]
  },
  {
   "cell_type": "markdown",
   "metadata": {},
   "source": [
    "Un corps noir émet une puissance rayonnante, proportionelle à sa température: $\\sigma T^4$. $\\sigma$ est la constante de Boltzmann, valant $5.67 \\times 10^{-8} \\ W/K^4$ "
   ]
  },
  {
   "cell_type": "markdown",
   "metadata": {},
   "source": [
    "Plus précisément, un corps noir émet une énergie par longueur d'onde; plus précisément, la formule de Planck nous donne cette répartition par longueur d'onde:\n",
    "$$\n",
    "\\phi_{\\lambda} = \\frac{2 \\pi \\times h \\times c_0}{\\lambda^5} \\times \\frac{1}{exp(\\frac{h \\dot c_0}{\\lambda k_B T})-1}\n",
    "$$"
   ]
  },
  {
   "cell_type": "code",
   "execution_count": 5,
   "metadata": {},
   "outputs": [],
   "source": [
    "from math import pi,exp\n",
    "def Planck(wave,temperature):\n",
    "    h=6.62*pow(10,-34)\n",
    "    c0 = 2.99 * pow(10,8)\n",
    "    kB=1.380649 * pow(10,-23)\n",
    "    lambd = wave*pow(10,-9) #à donner en nanomètres\n",
    "    coef1= 2*pi*h*c0/pow(lambd,5)\n",
    "    coef2= h*c0/(lambd*kB*temperature)\n",
    "    return coef1/(exp(coef2)-1)"
   ]
  },
  {
   "cell_type": "code",
   "execution_count": 6,
   "metadata": {},
   "outputs": [
    {
     "data": {
      "text/plain": [
       "310904.94689185283"
      ]
     },
     "execution_count": 6,
     "metadata": {},
     "output_type": "execute_result"
    }
   ],
   "source": [
    "Planck(500,5900)"
   ]
  },
  {
   "cell_type": "code",
   "execution_count": null,
   "metadata": {},
   "outputs": [],
   "source": []
  }
 ],
 "metadata": {
  "kernelspec": {
   "display_name": "Python 3",
   "language": "python",
   "name": "python3"
  },
  "language_info": {
   "codemirror_mode": {
    "name": "ipython",
    "version": 3
   },
   "file_extension": ".py",
   "mimetype": "text/x-python",
   "name": "python",
   "nbconvert_exporter": "python",
   "pygments_lexer": "ipython3",
   "version": "3.8.3"
  },
  "widgets": {
   "application/vnd.jupyter.widget-state+json": {
    "state": {},
    "version_major": 2,
    "version_minor": 0
   }
  }
 },
 "nbformat": 4,
 "nbformat_minor": 4
}