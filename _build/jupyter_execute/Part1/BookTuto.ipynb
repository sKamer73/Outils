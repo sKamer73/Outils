{
 "cells": [
  {
   "cell_type": "markdown",
   "metadata": {},
   "source": [
    "# Faire un livre avec Jupyter Book"
   ]
  },
  {
   "cell_type": "markdown",
   "metadata": {},
   "source": [
    "## Motivations"
   ]
  },
  {
   "cell_type": "markdown",
   "metadata": {},
   "source": [
    "La simplicité de ce système de **Jupyter Book** est particulièrement pertinente. Le Book est en fait un assemblement des Notebooks, et une façon de les organiser; chaque Notebook est une page, ou plus précisément une partie/chapitre. Organisés de la bonne manière, ils permettent la création d'un site web tel que celui que vous consultez actuellement. De plus, il est facile de faire tourner des codes en arrière plan; par conséquent, cela est très pratique pour toute présentation, dans laquelle on pourrait vous demander de faire quelques calculs légers. De même, faire un site web à partir de vos éléments de présentation devient assez simple, ce qui permet de tout simplement envoyer des liens contenant votre présentation. "
   ]
  },
  {
   "cell_type": "markdown",
   "metadata": {},
   "source": [
    "**Un tutoriel en anglais très bien fait**: https://jupyterbook.org/start/overview.html\n",
    "Ce sont eux qui ont créé ce système."
   ]
  },
  {
   "cell_type": "markdown",
   "metadata": {},
   "source": [
    "## Organisation des notebooks"
   ]
  },
  {
   "cell_type": "markdown",
   "metadata": {},
   "source": [
    "### Dans le dossier"
   ]
  },
  {
   "cell_type": "markdown",
   "metadata": {},
   "source": [
    "![CaptureJupyterArchitecture](../images/CaptureJupyterArchitecture.png)"
   ]
  },
  {
   "cell_type": "markdown",
   "metadata": {},
   "source": [
    "Vous pouvez explorer le dossier Github contenant ce livre, en cliquant sur le bouton GitHub en haut à droite. L'architecture (choisie en partie par moi) est la suivante:\n",
    "- les dossiers Part1, Part2, .. correspondent aux différentes parties de ce livre (tête de chapitre en gras dans le menu à gauche)\n",
    "- les images que je souhaite afficher sont stockés dans le dossier images. \n",
    "- le fichier _config.yml contient la configuration, dans laquelle un certain nombre sont modifiables; voir la [documentation](https://jupyterbook.org/intro.html).\n",
    "- le fichier _toc.yml contient l'emplacement de mes notebooks, et l'ordre dans lequel il faut qu'ils apparaissent. Il est facilement modifiable en s'inspirant de celui présent. Ne pas se tromper d'un espace!\n",
    "- le dossier build contient votre build, c'est-à-dire sa version html ou pdf. La compilation en pdf est complexe et je ne l'ai pas encore bien cerné.\n",
    "- le README.MD vient de Github, c'est ce qui s'affiche dans la présentation du contenu"
   ]
  },
  {
   "cell_type": "markdown",
   "metadata": {},
   "source": [
    "## Compilation du book"
   ]
  },
  {
   "cell_type": "markdown",
   "metadata": {},
   "source": [
    "### Installation de l'environnement wintest"
   ]
  },
  {
   "cell_type": "markdown",
   "metadata": {},
   "source": [
    "Il faut utiliser un environnement spécifique à jupyter book *à l'instant où cela est écrit* et ce **sous Windows** car il y a quelques problèmes de compatibilité so far - et si j'ai bien compris. \n",
    "Pour créer l'environnement:\n",
    "1. ouvrir une invite de commande conda comme Anaconda Powershell Prompt présent dans le dossier Anaconda, menu Démarrer\n",
    "2. se déplacer dans les dossiers jusqu'au dossier de ce livre, en utilisant les commandes Linux cd (et ls)\n",
    "3. entrer la commande suivante ->  *conda env create -f environment_win.yml*"
   ]
  },
  {
   "cell_type": "markdown",
   "metadata": {},
   "source": [
    "#### Changer l'environnement"
   ]
  },
  {
   "cell_type": "markdown",
   "metadata": {},
   "source": [
    "![Environnement](../images/CaptureEnvironnement.PNG)"
   ]
  },
  {
   "cell_type": "markdown",
   "metadata": {},
   "source": [
    "Changer l'environnement est utile pour utiliser d'autres packages dans le Book. Il suffit de les ajouter dans dependencies (ou dans pip si cela ne fonctionne pas)."
   ]
  },
  {
   "cell_type": "markdown",
   "metadata": {},
   "source": [
    "### Compilation en version html"
   ]
  },
  {
   "cell_type": "markdown",
   "metadata": {},
   "source": [
    "Compiler le livre revient à entrer une ligne dans l'invite de commande conda. Dans le cas de Windows, il y en a 2: \n",
    "1. *conda activate wintest*  -> activation de l'environnement précédent\n",
    "2. jupyter-book build Outils/  -> compilation du livre. Si tout se passe bien, le livre se trouvera dans *_build/html*"
   ]
  },
  {
   "cell_type": "markdown",
   "metadata": {},
   "source": [
    "Il suffit alors d'ouvrir une page web (.html), puis de se déplacer dans le livre comme sur ce site web."
   ]
  },
  {
   "cell_type": "markdown",
   "metadata": {},
   "source": [
    "### Compilation en version pdf"
   ]
  },
  {
   "cell_type": "markdown",
   "metadata": {},
   "source": [
    "Le compilateur fait passer du notebook à du latex, puis du latex à un pdf. Il peut donc y avoir un soucis au niveau de l'une des deux compilations, et cela est dur à trouver. Je pense qu'il y aura bientôt de l'évolution sur le sujet.\n",
    "Cela est appelé à changer bientôt je pense, il y a l'air d'avoir beaucoup d'activités sur leur GitHub."
   ]
  },
  {
   "cell_type": "markdown",
   "metadata": {},
   "source": [
    "La commande pour construire le livre en pdf, **une fois** l'environnement ouvert, est: *jupyter-book build Outils/ --builder pdflatex*"
   ]
  },
  {
   "cell_type": "markdown",
   "metadata": {},
   "source": [
    "## Publier son livre sur GitHub"
   ]
  },
  {
   "cell_type": "markdown",
   "metadata": {},
   "source": [
    "Il est possible de mettre en ligne son site web sur GitHub Pages, qui permet un hébergement gratuit. Pour ceux qui se posent la question, GitHub est aujourd'hui détenu par Microsoft.\n",
    "\n",
    "Il est nécessaire:\n",
    "1. De créer un dossier git (il est souvent utile de maîtriser git pour cela.. mais ce n'est pas trop mon cas -- à tenter sur Qwant). Cette page https://jupyterbook.org/start/publish.html explique le nécessaire\n",
    "2. Synchronisation du dossier git via *git commit -m \"Message Affichee\"* puis *git push*\n",
    "3. Utiliser cette commande *ghp-import -n -p -f _build/html*, qui nécessite que ghp-import soit installé (ce qui se fait via *pip install ghp-import*)"
   ]
  },
  {
   "cell_type": "markdown",
   "metadata": {},
   "source": [
    "## Astuces de présentation spécifiques au book"
   ]
  },
  {
   "cell_type": "markdown",
   "metadata": {},
   "source": [
    "Idées: En-tête, margin, "
   ]
  }
 ],
 "metadata": {
  "kernelspec": {
   "display_name": "Python 3",
   "language": "python",
   "name": "python3"
  },
  "language_info": {
   "codemirror_mode": {
    "name": "ipython",
    "version": 3
   },
   "file_extension": ".py",
   "mimetype": "text/x-python",
   "name": "python",
   "nbconvert_exporter": "python",
   "pygments_lexer": "ipython3",
   "version": "3.8.3"
  },
  "widgets": {
   "application/vnd.jupyter.widget-state+json": {
    "state": {},
    "version_major": 2,
    "version_minor": 0
   }
  }
 },
 "nbformat": 4,
 "nbformat_minor": 4
}