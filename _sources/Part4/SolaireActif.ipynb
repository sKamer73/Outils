{
 "cells": [
  {
   "cell_type": "markdown",
   "metadata": {},
   "source": [
    "# Solaire thermique actif"
   ]
  },
  {
   "cell_type": "markdown",
   "metadata": {},
   "source": [
    "## Introduction"
   ]
  },
  {
   "cell_type": "markdown",
   "metadata": {},
   "source": [
    "CMCG = C'est Meilleur si C'est Gratuit; l'énergie solaire est gratuite, profitons-en! La difficulté étant de réussir à combiner impact carbone, efficacité et retour sur investissement. \n",
    "\n",
    "Le solaire thermique actif consiste à utiliser une pompe pour faire circuler le fluide, ce faisant gagnant en efficacité. Les précédentes pages proposent des solutions de calcul avec leurs explications \n"
   ]
  },
  {
   "cell_type": "markdown",
   "metadata": {},
   "source": [
    "### Sur le low-tech"
   ]
  },
  {
   "cell_type": "markdown",
   "metadata": {},
   "source": [
    "Le low-tech semble émerger en remplacement de la high-tech dans quelques courants idéologiques. En effet, cela a souvent moins d'impact à tout niveau - écologique, porte-monnaie, et promeut la résilience: un produit fabriquable et réparable avec quelques composants locals est appelé à durer beaucoup plus. \n",
    "\n",
    "Le [site du low-tech Lab](lowtech-lab.com) est superbe. J'essayerais ici de donner une alternative aux solutions industrielles, et, dès que possible, donner des résultats (en expliquant comment les calculer). Le soucis étant que je n'ai pas trouvé de chiffres permettant l'estimation du rendement des installations low-tech. Une fois que j'aurai accès à ces chiffres (d'une manière ou d'une autre), je pourrai les partager ici."
   ]
  },
  {
   "cell_type": "markdown",
   "metadata": {},
   "source": [
    "## Chauffer son eau chaude sanitaire (ECS)"
   ]
  },
  {
   "cell_type": "markdown",
   "metadata": {},
   "source": [
    "### Dans l'industriel"
   ]
  }
 ],
 "metadata": {
  "kernelspec": {
   "display_name": "Python 3",
   "language": "python",
   "name": "python3"
  },
  "language_info": {
   "codemirror_mode": {
    "name": "ipython",
    "version": 3
   },
   "file_extension": ".py",
   "mimetype": "text/x-python",
   "name": "python",
   "nbconvert_exporter": "python",
   "pygments_lexer": "ipython3",
   "version": "3.8.3"
  },
  "widgets": {
   "application/vnd.jupyter.widget-state+json": {
    "state": {},
    "version_major": 2,
    "version_minor": 0
   }
  }
 },
 "nbformat": 4,
 "nbformat_minor": 4
}
