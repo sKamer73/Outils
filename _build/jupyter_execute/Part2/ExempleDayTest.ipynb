{
 "cells": [
  {
   "cell_type": "markdown",
   "metadata": {},
   "source": [
    "# Analysis of Hourly Values"
   ]
  },
  {
   "cell_type": "markdown",
   "metadata": {},
   "source": [
    "```{margin} L'équation cubique de Gausse\n",
    "Se résoud en développant en $e^{-x}$\n",
    "```"
   ]
  },
  {
   "cell_type": "markdown",
   "metadata": {},
   "source": [
    "\\begin{equation}\n",
    "  \\int_0^\\infty \\frac{x^3}{e^x-1}\\,dx = \\frac{\\pi^4}{15}\n",
    "\\end{equation}"
   ]
  },
  {
   "cell_type": "markdown",
   "metadata": {},
   "source": [
    "$$\n",
    "  w_{t+1} = (1 + r_{t+1}) s(w_t) + y_{t+1}\n",
    "$$ (my_other_label)"
   ]
  },
  {
   "cell_type": "markdown",
   "metadata": {},
   "source": [
    "- A link to an equation directive: {eq}`my_label`\n",
    "- A link to a dollar math block: {eq}`my_other_label`"
   ]
  },
  {
   "cell_type": "code",
   "execution_count": null,
   "metadata": {
    "tags": [
     "hide_input"
    ]
   },
   "outputs": [],
   "source": [
    "import plotFuncAndClass as hm\n",
    "import pandas as pd\n",
    "from ipywidgets import interact, interactive, fixed, interact_manual, IntSlider\n",
    "# Standard plotly imports\n",
    "import chart_studio.plotly as py\n",
    "import plotly.graph_objs as go\n",
    "from plotly.offline import iplot, init_notebook_mode\n",
    "# Using plotly + cufflinks in offline mode\n",
    "import cufflinks as cf\n",
    "cf.go_offline(connected=False)\n",
    "init_notebook_mode(connected=False)"
   ]
  },
  {
   "cell_type": "code",
   "execution_count": null,
   "metadata": {
    "tags": [
     "hide_cell"
    ]
   },
   "outputs": [],
   "source": [
    "listLat=['\\Delta t','DNI', 'T_{amb}', '\\dot{m}_{Demand}', 'T_{demand}', '\\dot{m}_{SF}', 'T_{SF}', '\\dot{m}_{aux}',\n",
    "    '\\dot{q}_{boiler}', '\\dot{q}_{abs}','M_{storage}', 'T_{storage}', '\\dot{m}_{Storage -> boiler}', '\\dot{m}_{SF->Boiler}', '\\dot{m}_{SF->Storage}']\n",
    "varDescription=['Hour','Direct Normal Irradiance', 'Ambient Temperature', 'Demand Mass Flow Rate', 'Temperature Demand', \n",
    "                'Mass flow rate from the Solar Field', 'Temperature of the Solar Field', 'Auxiliar Mass flow rate', \n",
    "               'Heat From The Boiler', 'Heat absorbed by the receiver','Mass in the Storage', 'Temperature of the storage', 'Mass flow rate from the Storage to the Boiler',\n",
    "               'Mass flow rate from the Solar Field to the Boiler', 'Mass flow rate from the Solar Field to the Storage']\n",
    "df = pd.read_csv('data/CoSim.csv') #read a specific csv file\n",
    "dfMILP= pd.read_csv('data/MILP.csv') #read another specific csv file with same fields\n",
    "dfSM1= pd.read_csv('data/SM1.csv') #read another specific csv file with same fields\n",
    "dfSM2= pd.read_csv('data/SM2.csv') #read another specific csv file with same fields\n",
    "tabDataFrames=[df,dfSM1,dfSM2, dfMILP]\n",
    "tabNameDataFrame=['CoSim','SM1','SM2','MILP','3 CoSim']\n",
    "nameColumns=list(df.columns)\n",
    "tabVar=[hm.nameAndUnit(nameColumns[i],nameColumns[i],varDescription[i],'',listLat[i]) for i in range(0,len(nameColumns))]"
   ]
  },
  {
   "cell_type": "markdown",
   "metadata": {},
   "source": [
    "## Daily plotting"
   ]
  },
  {
   "cell_type": "code",
   "execution_count": null,
   "metadata": {
    "tags": [
     "hide_cell"
    ]
   },
   "outputs": [],
   "source": [
    "def plot1VarDay(NHour, ControlModel, dayStart, var1):\n",
    "    titleFunc= var1.varDescription + ' in ' + var1.unitVar + ' starting on ' + hm.fromNumDayToDate(dayStart)\n",
    "    if(ControlModel<4):\n",
    "        toPlot=tabDataFrames[ControlModel][dayStart*24:dayStart*24+NHour]\n",
    "        toPlot['hourMod']=(toPlot['hour(h)']-dayStart*24)%NHour\n",
    "        toPlot=toPlot.set_index('hourMod')\n",
    "        \n",
    "        fig = toPlot.iplot(kind='scatter',y=var1.keyDF , title=titleFunc, xTitle='hour (h)', filename=\"../images/test.png\",\n",
    "                     yTitle='$'+var1.lat+'('+var1.unitVar+')$',showlegend=True, asFigure=True)\n",
    "    else:\n",
    "        toPlot=pd.concat([tabDataFrames[i].add_suffix('_'+tabNameDataFrame[i]) for i in range(0,3)], axis=1)[dayStart*24:dayStart*24+NHour]\n",
    "        toPlot['hourMod']=(toPlot['hour(h)_CoSim']-dayStart*24)%NHour\n",
    "        toPlot=toPlot.set_index('hourMod')\n",
    "        fig = toPlot[[var1.keyDF+'_'+tabNameDataFrame[i] for i in range(0,3)]].iplot(kind='scatter', asFigure=True,\n",
    "                                    title=titleFunc, xTitle='hour (h)', yTitle='$'+var1.lat+'('+var1.unitVar+')$',showlegend=True)\n",
    "    fig.write_image(\"../images/plot1VarDay.png\")\n",
    "    display(fig)\n",
    "    #return fig"
   ]
  },
  {
   "cell_type": "code",
   "execution_count": null,
   "metadata": {},
   "outputs": [],
   "source": [
    "interact(plot1VarDay, NHour=fixed(96),\n",
    "                                      ControlModel=[(tabNameDataFrame[i],i) for i in range(0,5)],\n",
    "                                      dayStart=IntSlider(min=0, max=df['hour(h)'].size//24-4, step=1, value=170),\n",
    "                                      var1=[(tabVar[i].varDescription,tabVar[i]) for i in range(1,len(nameColumns))])"
   ]
  },
  {
   "cell_type": "markdown",
   "metadata": {
    "jupyter": {
     "source_hidden": true
    }
   },
   "source": [
    "![title](../images/plot1VarDay.png)"
   ]
  },
  {
   "cell_type": "code",
   "execution_count": null,
   "metadata": {
    "tags": [
     "remove_cell"
    ]
   },
   "outputs": [],
   "source": [
    "interactive_plot1VarDay = interactive(plot1VarDay, NHour=fixed(96),\n",
    "                                      ControlModel=[(tabNameDataFrame[i],i) for i in range(0,5)],\n",
    "                                      dayStart=IntSlider(min=0, max=df['hour(h)'].size//24-4, step=1, value=170),\n",
    "                                      var1=[(tabVar[i].varDescription,tabVar[i]) for i in range(1,len(nameColumns))])"
   ]
  },
  {
   "cell_type": "code",
   "execution_count": null,
   "metadata": {},
   "outputs": [],
   "source": [
    "output1VarDay = interactive_plot1VarDay.children[-1]\n",
    "output1VarDay.layout.height = '450px'\n",
    "interactive_plot1VarDay"
   ]
  },
  {
   "cell_type": "code",
   "execution_count": null,
   "metadata": {
    "jupyter": {
     "outputs_hidden": true
    },
    "tags": [
     "remove_input"
    ]
   },
   "outputs": [],
   "source": [
    "output1VarDay"
   ]
  },
  {
   "cell_type": "markdown",
   "metadata": {
    "tags": [
     "remove_cell"
    ]
   },
   "source": [
    "#### Plot 2 variables on choice, 4 days range; 1 for the 3 models, the other for the coSim Models"
   ]
  },
  {
   "cell_type": "code",
   "execution_count": null,
   "metadata": {
    "tags": [
     "remove_cell"
    ]
   },
   "outputs": [],
   "source": [
    "def plot2VarDay(NHour, ControlModel, dayStart, var1,var2):\n",
    "    titleFunc= var1.varDescription + ' & ' + var2.varDescription + ' starting on ' + hm.fromNumDayToDate(dayStart)\n",
    "    if(ControlModel<4):\n",
    "        toPlot=tabDataFrames[ControlModel][dayStart*24:dayStart*24+NHour]\n",
    "        toPlot['hourMod']=(toPlot['hour(h)']-dayStart*24)%NHour\n",
    "        toPlot=toPlot.set_index('hourMod')\n",
    "        toPlot.iplot(kind='scatter',y=var1.keyDF , secondary_y = var2.keyDF,\\\n",
    "                                                       title=titleFunc, xTitle='hour (h)', yTitle='$'+var1.lat+'('+var1.unitVar+')$',\\\n",
    "                secondary_y_title='$'+var2.lat+'('+var2.unitVar+')$', showlegend=True)\n",
    "    else:\n",
    "        toPlot=pd.concat([tabDataFrames[i].add_suffix('_'+tabNameDataFrame[i]) for i in range(0,3)], axis=1)[dayStart*24:dayStart*24+NHour]\n",
    "        toPlot[var2.keyDF+'_CoSim']=tabDataFrames[0][var2.keyDF][dayStart*24:dayStart*24+NHour]\n",
    "        toPlot['hourMod']=(tabDataFrames[0]['hour(h)'][dayStart*24:dayStart*24+NHour]-dayStart*24)%NHour\n",
    "        \n",
    "        testIn=toPlot[[var1.keyDF+'_'+tabNameDataFrame[i] for i in range(0,3)]]\n",
    "        testIn['hourMod']=toPlot['hourMod']\n",
    "        testIn[var2.keyDF+'_CoSim']=toPlot[var2.keyDF+'_CoSim']\n",
    "        testIn=testIn.set_index('hourMod')\n",
    "             \n",
    "        testIn.iplot(kind='scatter',\\\n",
    "                                    title=titleFunc, xTitle='hour (h)', yTitle='$'+var1.lat+'('+var1.unitVar+')$',\\\n",
    "                                    secondary_y=var2.keyDF+'_CoSim',\\\n",
    "                                    secondary_y_title='$'+var2.lat+'('+var2.unitVar+')$',showlegend=True)    "
   ]
  },
  {
   "cell_type": "code",
   "execution_count": null,
   "metadata": {
    "tags": [
     "remove_cell"
    ]
   },
   "outputs": [],
   "source": [
    "interactive_plot2VarDay = interactive(plot2VarDay, NHour=fixed(96), dayStart=IntSlider(min=0, max=df['hour(h)'].size//24-4, step=1, value=170),\\\n",
    "                                ControlModel=[(tabNameDataFrame[i],i) for i in range(0,5)],\\\n",
    "                               var1=[(tabVar[i].varDescription,tabVar[i]) for i in range(1,len(nameColumns))],\\\n",
    "                              var2=[(tabVar[i].varDescription,tabVar[i]) for i in range(1,len(nameColumns))])\n",
    "output2VarDay = interactive_plot2VarDay.children[-1]\n",
    "output2VarDay.layout.height = '450px'\n",
    "interactive_plot2VarDay"
   ]
  },
  {
   "cell_type": "code",
   "execution_count": null,
   "metadata": {
    "tags": [
     "remove_input"
    ]
   },
   "outputs": [],
   "source": [
    "plot2VarDay(interactive_plot2VarDay.kwargs['NHour'],interactive_plot2VarDay.kwargs['ControlModel'],interactive_plot2VarDay.kwargs['dayStart'],\\\n",
    "           interactive_plot2VarDay.kwargs['var1'],interactive_plot2VarDay.kwargs['var2'])"
   ]
  },
  {
   "cell_type": "code",
   "execution_count": null,
   "metadata": {},
   "outputs": [],
   "source": []
  }
 ],
 "metadata": {
  "jupytext": {
   "text_representation": {
    "extension": ".md",
    "format_name": "myst",
    "format_version": 0.12,
    "jupytext_version": "1.7.1"
   }
  },
  "kernelspec": {
   "display_name": "Python 3",
   "language": "python",
   "name": "python3"
  },
  "source_map": [
   12,
   16,
   22,
   28,
   34,
   39,
   55,
   72,
   76,
   99,
   106,
   110,
   119,
   125,
   134,
   138,
   166,
   178,
   185
  ]
 },
 "nbformat": 4,
 "nbformat_minor": 4
}