{
 "cells": [
  {
   "cell_type": "markdown",
   "metadata": {},
   "source": [
    "# SolarPunk"
   ]
  },
  {
   "cell_type": "markdown",
   "metadata": {},
   "source": [
    "```{margin} Traduction personelle\n",
    "Le mouvement Solarpunk est un mouvement visionnant comment le future pourrait être si l'humanité réussissait à résoudre les défis contemporains majeurs avec une emphase sur les issues de pollution et climatique. Le mouvement Solarpunk passe par une multitude de médias tel que la littérature, l'architecture, la mode, la musique, les tatouages et les jeux vidéos, d'une manière similaire aux mouvements tels que Steampunk et Cyberpunk; tout comme des mouvements plus établis tels que le baroque et l'impressionisme.\n",
    "```"
   ]
  },
  {
   "cell_type": "markdown",
   "metadata": {},
   "source": [
    "> Solarpunk is an art movement that envisions how the future might look if humanity succeeded in solving major contemporary challenges with an emphasis on sustainability problems such as climate change and pollution. Solarpunk describes a multitude of media such as literature, fine arts, architecture, fashion, music, tattoos, and video games in a similar manner to adjacent movements such as steampunk and cyberpunk as well as more established art movements like Baroque and Impressionism. From [Wikipédia](https://en.wikipedia.org/wiki/Solarpunk)"
   ]
  },
  {
   "cell_type": "markdown",
   "metadata": {},
   "source": [
    "![SolarPunk](../images/solarpunk.PNG)"
   ]
  },
  {
   "cell_type": "markdown",
   "metadata": {},
   "source": [
    "[https://www.appropedia.org/Solarpunk](https://www.appropedia.org/Solarpunk)\n",
    "\n",
    "https://suis-lelan.fr/le-solarpunk"
   ]
  },
  {
   "cell_type": "code",
   "execution_count": null,
   "metadata": {},
   "outputs": [],
   "source": []
  }
 ],
 "metadata": {
  "kernelspec": {
   "display_name": "Python 3",
   "language": "python",
   "name": "python3"
  },
  "language_info": {
   "codemirror_mode": {
    "name": "ipython",
    "version": 3
   },
   "file_extension": ".py",
   "mimetype": "text/x-python",
   "name": "python",
   "nbconvert_exporter": "python",
   "pygments_lexer": "ipython3",
   "version": "3.8.3"
  },
  "widgets": {
   "application/vnd.jupyter.widget-state+json": {
    "state": {},
    "version_major": 2,
    "version_minor": 0
   }
  }
 },
 "nbformat": 4,
 "nbformat_minor": 4
}
